{
  "nbformat": 4,
  "nbformat_minor": 0,
  "metadata": {
    "colab": {
      "name": "AdithyaHegde_20BCS006_OOPTask1.ipynb",
      "provenance": [],
      "authorship_tag": "ABX9TyPliTsDOVnuBmWHRSRIT2ty",
      "include_colab_link": true
    },
    "kernelspec": {
      "name": "python3",
      "display_name": "Python 3"
    },
    "language_info": {
      "name": "python"
    }
  },
  "cells": [
    {
      "cell_type": "markdown",
      "metadata": {
        "id": "view-in-github",
        "colab_type": "text"
      },
      "source": [
        "<a href=\"https://colab.research.google.com/github/adithyaGHegde/OOP-Lab-Assignment-I/blob/main/AdithyaHegde_20BCS006_OOPTask1.ipynb\" target=\"_parent\"><img src=\"https://colab.research.google.com/assets/colab-badge.svg\" alt=\"Open In Colab\"/></a>"
      ]
    },
    {
      "cell_type": "markdown",
      "metadata": {
        "id": "vdRra4vPOsLL"
      },
      "source": [
        "## Problem-I\n",
        "\n",
        "An extra day is added to the calendar almost every four years as February 29, and the day is\n",
        "called a leap day. It corrects the calendar for the fact that our planet takes approximately 365.25\n",
        "days to orbit the sun. A leap year contains a leap day.\n",
        "In the Gregorian calendar, three conditions are used to identify leap years:\n",
        "1. The year can be evenly divided by 4, is a leap year, unless:\n",
        "2. The year can be evenly divided by 100, it is NOT a leap year, unless:\n",
        "3. The year is also evenly divisible by 400. Then it is a leap year.\n",
        "\n",
        "Write function to decide whether it is a leap year. If it is a leap year, return the Boolean True,\n",
        "otherwise return False."
      ]
    },
    {
      "cell_type": "code",
      "metadata": {
        "colab": {
          "base_uri": "https://localhost:8080/"
        },
        "id": "USqrk85eOxJ6",
        "outputId": "614693a9-0c28-4348-f088-3b4ebb843859"
      },
      "source": [
        "def checkLeapYear(year):\n",
        "  if (year%4==0):\n",
        "    if (year%100==0):\n",
        "      return False\n",
        "    elif (year%400):\n",
        "      return True\n",
        "    return True\n",
        "\n",
        "year=int(input(\"Enter Year: \"))\n",
        "\n",
        "if (checkLeapYear(year)):\n",
        "  print(\"Its a leap year\")\n",
        "else:\n",
        "  print(\"Its not a leap year\")\n",
        "\n"
      ],
      "execution_count": 5,
      "outputs": [
        {
          "output_type": "stream",
          "name": "stdout",
          "text": [
            "Enter Year: 2020\n",
            "Its a leap year\n"
          ]
        }
      ]
    },
    {
      "cell_type": "markdown",
      "metadata": {
        "id": "6EL0CRsaQHPH"
      },
      "source": [
        "## Problem-II\n",
        "\n",
        "Given an integer ‘n’, write a python code to perform the following conditional actions:\n",
        "1. If ‘n’ is odd, print Weird\n",
        "2. If ‘n’ is even and in the inclusive range of 2 to 5, print Not Weird\n",
        "3. If ‘n’ is even and in the inclusive range of 6 to 20, print Weird\n",
        "4. If ‘n’ is even and greater than 20, print Not Weird"
      ]
    },
    {
      "cell_type": "code",
      "metadata": {
        "colab": {
          "base_uri": "https://localhost:8080/"
        },
        "id": "RVHQ_1K9QPWI",
        "outputId": "d26f2d3f-991f-4a10-c587-1076bdc92d1c"
      },
      "source": [
        "number=int(input(\"Please enter an integer: \"))\n",
        "\n",
        "if (number%2!=0):\n",
        "    print(\"Weird\")\n",
        "else:\n",
        "    if ((number>=2) and (number<=5)):\n",
        "        print(\"Not Weird\")\n",
        "    elif ((number>=6) and (number<=20)):\n",
        "        print(\"Weird\")\n",
        "    elif (number>20):\n",
        "        print(\"Not Weird\")"
      ],
      "execution_count": 10,
      "outputs": [
        {
          "output_type": "stream",
          "name": "stdout",
          "text": [
            "Please enter an integer: 2\n",
            "Not Weird\n"
          ]
        }
      ]
    },
    {
      "cell_type": "markdown",
      "metadata": {
        "id": "JlIeNQ84U8DP"
      },
      "source": [
        "## Problem-III\n",
        "\n",
        "The following list represents a party with 7 guests, in which ‘Hardik’ showed up first and\n",
        "‘Rahane’ was the last to arrive:\n",
        "\n",
        "Arrivals = [&#39;Hardik&#39;, &#39;Rahul&#39;, &#39;Virat&#39;, &#39;Rishabh’, ‘Mahi’ &#39;Rohit&#39;, &#39;Rahane&#39;]\n",
        "\n",
        "A guest is considered &#39;fashionably late&#39; if they arrived after at least half of the party&#39;s guests.\n",
        "However, they must not be the very last guest (that&#39;s taking it too far). In the above example,\n",
        "‘rishabh’, ‘Mahi’ and ‘Rohit’ are the only guests who were fashionably late.\n",
        "\n",
        "Write the function which takes a list of party attendees as well as a person, and tells us whether\n",
        "that person is fashionably late."
      ]
    },
    {
      "cell_type": "code",
      "metadata": {
        "colab": {
          "base_uri": "https://localhost:8080/"
        },
        "id": "yWob_jKhVLoN",
        "outputId": "62a01605-77c9-49cf-d3d5-c178171a89bd"
      },
      "source": [
        "def guestArrival(Arrivals,GuestName):\n",
        "  NumberOfGuests = len(Arrivals)\n",
        "  HalfNumberOfGuests = (NumberOfGuests//2)\n",
        "\n",
        "  if (Arrivals.index(GuestName) >= HalfNumberOfGuests and Arrivals.index(GuestName)!=NumberOfGuests-1):\n",
        "    print(GuestName + \" is fashionably late\")\n",
        "  else:\n",
        "    print(GuestName + \" is not fashionably late\")\n",
        "\n",
        "Arrivals = ['Hardik','Rahul','Virat','Rishabh','Mahi','Rohit','Rahane']\n",
        "GuestName = input(\"Enter Guest Name: \")\n",
        "\n",
        "guestArrival(Arrivals,GuestName)\n"
      ],
      "execution_count": 24,
      "outputs": [
        {
          "output_type": "stream",
          "name": "stdout",
          "text": [
            "Enter Guest Name: Rishabh\n",
            "Rishabh is fashionably late\n"
          ]
        }
      ]
    },
    {
      "cell_type": "markdown",
      "metadata": {
        "id": "wOQ9MZFxY2oF"
      },
      "source": [
        "## Problem-IV\n",
        "\n",
        "A researcher has gathered thousands of news articles. But she wants to focus her attention on\n",
        "articles including a specific word. Write a function to help her filter her list of articles.\n",
        "Your function should meet the following criteria:\n",
        "1. Do not include documents where the keyword string shows up only as a part of a larger\n",
        "word. For example, if she were looking for the keyword “closed”, you would not include\n",
        "the string “enclosed.”\n",
        "2. She does not want you to distinguish upper case from lower case letters. So the phrase\n",
        "“Closed the case.” would be included when the keyword is “closed”\n",
        "3. Do not let periods or commas affect what is matched. “It is closed.” would be included\n",
        "when the keyword is “closed”. But you can assume there are no other types of\n",
        "punctuation.\n",
        "\n",
        "Assume, doc_list = [&quot;The Learn Python Challenge Rohit.&quot;, &quot;They bought a car&quot;, &quot;bangalore&quot;]"
      ]
    },
    {
      "cell_type": "code",
      "metadata": {
        "id": "_g5egtVoZUla"
      },
      "source": [
        ""
      ],
      "execution_count": null,
      "outputs": []
    },
    {
      "cell_type": "markdown",
      "metadata": {
        "id": "OR0CHm2KZWe8"
      },
      "source": [
        "## Problem-V\n",
        "\n",
        "An Employee&#39;s Basic Pay (BP) is to be read from user. DA is 40% of BP, HRA is 20% of BP,\n",
        "and write a function to calculate the Gross Pay (GP) GP is computed as BP + DA + HRA."
      ]
    },
    {
      "cell_type": "code",
      "metadata": {
        "colab": {
          "base_uri": "https://localhost:8080/"
        },
        "id": "bGlK4sSHZbky",
        "outputId": "92ffe08f-e922-4e57-9ba7-e270250269cf"
      },
      "source": [
        "def GrossPay(BP):\n",
        "  DA = 0.4*BP\n",
        "  HRA = 0.2*BP\n",
        "  GP = BP + DA + HRA\n",
        "  print(\"Gross pay is \",GP)\n",
        "\n",
        "BP = int(input(\"Enter Employee's Basic Pay: \"))\n",
        "GrossPay(BP)\n"
      ],
      "execution_count": 25,
      "outputs": [
        {
          "output_type": "stream",
          "name": "stdout",
          "text": [
            "Enter Employee's Basic Pay: 400\n",
            "Gross pay is  640.0\n"
          ]
        }
      ]
    }
  ]
}