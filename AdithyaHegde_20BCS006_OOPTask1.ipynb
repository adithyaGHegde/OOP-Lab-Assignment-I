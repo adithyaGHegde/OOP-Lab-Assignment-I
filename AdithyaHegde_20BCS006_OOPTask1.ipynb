{
  "nbformat": 4,
  "nbformat_minor": 0,
  "metadata": {
    "colab": {
      "name": "AdithyaHegde_20BCS006_OOPTask1.ipynb",
      "provenance": [],
      "authorship_tag": "ABX9TyOfDs2wtIetGSd+cZmHXUcA",
      "include_colab_link": true
    },
    "kernelspec": {
      "name": "python3",
      "display_name": "Python 3"
    },
    "language_info": {
      "name": "python"
    }
  },
  "cells": [
    {
      "cell_type": "markdown",
      "metadata": {
        "id": "view-in-github",
        "colab_type": "text"
      },
      "source": [
        "<a href=\"https://colab.research.google.com/github/adithyaGHegde/OOP-Lab-Assignment-I/blob/main/AdithyaHegde_20BCS006_OOPTask1.ipynb\" target=\"_parent\"><img src=\"https://colab.research.google.com/assets/colab-badge.svg\" alt=\"Open In Colab\"/></a>"
      ]
    },
    {
      "cell_type": "markdown",
      "metadata": {
        "id": "vdRra4vPOsLL"
      },
      "source": [
        "## Problem-I\n",
        "\n",
        "An extra day is added to the calendar almost every four years as February 29, and the day is\n",
        "called a leap day. It corrects the calendar for the fact that our planet takes approximately 365.25\n",
        "days to orbit the sun. A leap year contains a leap day.\n",
        "In the Gregorian calendar, three conditions are used to identify leap years:\n",
        "1. The year can be evenly divided by 4, is a leap year, unless:\n",
        "2. The year can be evenly divided by 100, it is NOT a leap year, unless:\n",
        "3. The year is also evenly divisible by 400. Then it is a leap year.\n",
        "\n",
        "Write function to decide whether it is a leap year. If it is a leap year, return the Boolean True,\n",
        "otherwise return False."
      ]
    },
    {
      "cell_type": "code",
      "metadata": {
        "colab": {
          "base_uri": "https://localhost:8080/"
        },
        "id": "USqrk85eOxJ6",
        "outputId": "53cd56cd-97e3-4a53-f38f-00323d3f1edb"
      },
      "source": [
        "def checkLeapYear(year):\n",
        "  if (year%4==0):\n",
        "    if (year%100==0):\n",
        "      if (year%400==0):\n",
        "        return True\n",
        "      else:\n",
        "        return False\n",
        "    else:\n",
        "      return True\n",
        "  else:\n",
        "    False\n",
        "\n",
        "year=int(input(\"Enter Year: \"))\n",
        "\n",
        "if (checkLeapYear(year)):\n",
        "  print(\"Its a leap year\")\n",
        "else:\n",
        "  print(\"Its not a leap year\")\n",
        "\n"
      ],
      "execution_count": 39,
      "outputs": [
        {
          "output_type": "stream",
          "name": "stdout",
          "text": [
            "Enter Year: 2000\n",
            "Its a leap year\n"
          ]
        }
      ]
    },
    {
      "cell_type": "markdown",
      "metadata": {
        "id": "6EL0CRsaQHPH"
      },
      "source": [
        "## Problem-II\n",
        "\n",
        "Given an integer ‘n’, write a python code to perform the following conditional actions:\n",
        "1. If ‘n’ is odd, print Weird\n",
        "2. If ‘n’ is even and in the inclusive range of 2 to 5, print Not Weird\n",
        "3. If ‘n’ is even and in the inclusive range of 6 to 20, print Weird\n",
        "4. If ‘n’ is even and greater than 20, print Not Weird"
      ]
    },
    {
      "cell_type": "code",
      "metadata": {
        "colab": {
          "base_uri": "https://localhost:8080/"
        },
        "id": "RVHQ_1K9QPWI",
        "outputId": "f45c1822-8bb0-4987-9ba0-4151006a5d04"
      },
      "source": [
        "number=int(input(\"Please enter an integer: \"))\n",
        "\n",
        "if (number%2!=0):\n",
        "    print(\"Weird\")\n",
        "else:\n",
        "    if ((number>=2) and (number<=5)):\n",
        "        print(\"Not Weird\")\n",
        "    elif ((number>=6) and (number<=20)):\n",
        "        print(\"Weird\")\n",
        "    elif (number>20):\n",
        "        print(\"Not Weird\")"
      ],
      "execution_count": 17,
      "outputs": [
        {
          "output_type": "stream",
          "name": "stdout",
          "text": [
            "Please enter an integer: 34\n",
            "Not Weird\n"
          ]
        }
      ]
    },
    {
      "cell_type": "markdown",
      "metadata": {
        "id": "JlIeNQ84U8DP"
      },
      "source": [
        "## Problem-III\n",
        "\n",
        "The following list represents a party with 7 guests, in which ‘Hardik’ showed up first and\n",
        "‘Rahane’ was the last to arrive:\n",
        "\n",
        "Arrivals = [&#39;Hardik&#39;, &#39;Rahul&#39;, &#39;Virat&#39;, &#39;Rishabh’, ‘Mahi’ &#39;Rohit&#39;, &#39;Rahane&#39;]\n",
        "\n",
        "A guest is considered &#39;fashionably late&#39; if they arrived after at least half of the party&#39;s guests.\n",
        "However, they must not be the very last guest (that&#39;s taking it too far). In the above example,\n",
        "‘rishabh’, ‘Mahi’ and ‘Rohit’ are the only guests who were fashionably late.\n",
        "\n",
        "Write the function which takes a list of party attendees as well as a person, and tells us whether\n",
        "that person is fashionably late."
      ]
    },
    {
      "cell_type": "code",
      "metadata": {
        "colab": {
          "base_uri": "https://localhost:8080/"
        },
        "id": "yWob_jKhVLoN",
        "outputId": "53f59c96-8a9c-45a9-9820-8515e14c9eef"
      },
      "source": [
        "def guestArrival(Arrivals,GuestName):\n",
        "  NumberOfGuests = len(Arrivals)\n",
        "  HalfNumberOfGuests = (NumberOfGuests//2)\n",
        "\n",
        "  if (Arrivals.index(GuestName) >= HalfNumberOfGuests and Arrivals.index(GuestName)!=NumberOfGuests-1):\n",
        "    print(GuestName + \" is fashionably late\")\n",
        "  else:\n",
        "    print(GuestName + \" is not fashionably late\")\n",
        "\n",
        "Arrivals = ['Hardik','Rahul','Virat','Rishabh','Mahi','Rohit','Rahane']\n",
        "GuestName = input(\"Enter Guest Name: \")\n",
        "\n",
        "guestArrival(Arrivals,GuestName)\n"
      ],
      "execution_count": 20,
      "outputs": [
        {
          "output_type": "stream",
          "name": "stdout",
          "text": [
            "Enter Guest Name: Mahi\n",
            "Mahi is fashionably late\n"
          ]
        }
      ]
    },
    {
      "cell_type": "markdown",
      "metadata": {
        "id": "wOQ9MZFxY2oF"
      },
      "source": [
        "## Problem-IV\n",
        "\n",
        "A researcher has gathered thousands of news articles. But she wants to focus her attention on\n",
        "articles including a specific word. Write a function to help her filter her list of articles.\n",
        "Your function should meet the following criteria:\n",
        "1. Do not include documents where the keyword string shows up only as a part of a larger\n",
        "word. For example, if she were looking for the keyword “closed”, you would not include\n",
        "the string “enclosed.”\n",
        "2. She does not want you to distinguish upper case from lower case letters. So the phrase\n",
        "“Closed the case.” would be included when the keyword is “closed”\n",
        "3. Do not let periods or commas affect what is matched. “It is closed.” would be included\n",
        "when the keyword is “closed”. But you can assume there are no other types of\n",
        "punctuation.\n",
        "\n",
        "Assume, doc_list = [&quot;The Learn Python Challenge Rohit.&quot;, &quot;They bought a car&quot;, &quot;bangalore&quot;]"
      ]
    },
    {
      "cell_type": "code",
      "metadata": {
        "id": "_g5egtVoZUla",
        "colab": {
          "base_uri": "https://localhost:8080/"
        },
        "outputId": "06d346de-f920-4f53-f061-c8a51b978473"
      },
      "source": [
        "def wordSearch(doc_list,keyword):\n",
        "  result=[]\n",
        "  for i in range(len(doc_list)-1):\n",
        "    #convert everything into lower, remove punctuation, split by whitespaces\n",
        "    if keyword.lower() in (doc_list[i].lower().strip('.,').split()):\n",
        "      result.append((i,doc_list[i]))\n",
        "  return result\n",
        "\n",
        "doc_list=[\"The Learn Python Challenge Rohit.\",\"They bought a car Rohit\",\"bangalore\"]\n",
        "keyword = input(\"Enter keyword to be searched: \")\n",
        "print(\"Keyword found in \")\n",
        "print(wordSearch(doc_list,keyword))"
      ],
      "execution_count": 35,
      "outputs": [
        {
          "output_type": "stream",
          "name": "stdout",
          "text": [
            "Enter keyword to be searched: Rohit\n",
            "Keyword found in \n",
            "[(0, 'The Learn Python Challenge Rohit.'), (1, 'They bought a car Rohit')]\n"
          ]
        }
      ]
    },
    {
      "cell_type": "markdown",
      "metadata": {
        "id": "OR0CHm2KZWe8"
      },
      "source": [
        "## Problem-V\n",
        "\n",
        "An Employee&#39;s Basic Pay (BP) is to be read from user. DA is 40% of BP, HRA is 20% of BP,\n",
        "and write a function to calculate the Gross Pay (GP) GP is computed as BP + DA + HRA."
      ]
    },
    {
      "cell_type": "code",
      "metadata": {
        "colab": {
          "base_uri": "https://localhost:8080/"
        },
        "id": "bGlK4sSHZbky",
        "outputId": "92ffe08f-e922-4e57-9ba7-e270250269cf"
      },
      "source": [
        "def GrossPay(BP):\n",
        "  DA = 0.4*BP\n",
        "  HRA = 0.2*BP\n",
        "  GP = BP + DA + HRA\n",
        "  print(\"Gross pay is \",GP)\n",
        "\n",
        "BP = int(input(\"Enter Employee's Basic Pay: \"))\n",
        "GrossPay(BP)\n"
      ],
      "execution_count": null,
      "outputs": [
        {
          "output_type": "stream",
          "name": "stdout",
          "text": [
            "Enter Employee's Basic Pay: 400\n",
            "Gross pay is  640.0\n"
          ]
        }
      ]
    }
  ]
}